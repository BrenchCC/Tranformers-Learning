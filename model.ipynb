{
 "cells": [
  {
   "cell_type": "code",
   "id": "initial_id",
   "metadata": {
    "collapsed": true,
    "ExecuteTime": {
     "end_time": "2024-08-20T07:40:01.845859Z",
     "start_time": "2024-08-20T07:39:59.062376Z"
    }
   },
   "source": [
    "import torch\n",
    "from torch import nn\n",
    "import torch.nn.functional as F\n",
    "import torch.optim as optim\n",
    "import math\n",
    "from torch.utils.data import Dataset, DataLoader\n",
    "from torchvision import datasets, transforms"
   ],
   "outputs": [],
   "execution_count": 1
  },
  {
   "metadata": {
    "ExecuteTime": {
     "end_time": "2024-08-20T07:40:56.688294Z",
     "start_time": "2024-08-20T07:40:56.680286Z"
    }
   },
   "cell_type": "code",
   "source": [
    "random_torch = torch.rand(4,4)\n",
    "random_torch"
   ],
   "id": "225346d1cf6073",
   "outputs": [
    {
     "data": {
      "text/plain": [
       "tensor([[0.3725, 0.7643, 0.4864, 0.7735],\n",
       "        [0.5011, 0.2310, 0.0578, 0.5584],\n",
       "        [0.2535, 0.0506, 0.3007, 0.1659],\n",
       "        [0.2144, 0.5791, 0.8577, 0.9852]])"
      ]
     },
     "execution_count": 3,
     "metadata": {},
     "output_type": "execute_result"
    }
   ],
   "execution_count": 3
  },
  {
   "metadata": {
    "ExecuteTime": {
     "end_time": "2024-08-20T07:59:32.711305Z",
     "start_time": "2024-08-20T07:59:32.693299Z"
    }
   },
   "cell_type": "code",
   "source": [
    "from torch import tensor\n",
    "# 将输入的词汇表索引转换为指定维度的embedding形式\n",
    "class TokenEmbedding(nn.Embedding):\n",
    "    def __init__(self,vocab_size,embedding_dim):\n",
    "        super(TokenEmbedding,self).__init__(vocab_size,embedding_dim,padding_idx=1)\n",
    "        "
   ],
   "id": "8729fd7bbd4b1b6e",
   "outputs": [],
   "execution_count": 4
  },
  {
   "metadata": {
    "ExecuteTime": {
     "end_time": "2024-08-20T08:29:12.473205Z",
     "start_time": "2024-08-20T08:29:12.456611Z"
    }
   },
   "cell_type": "code",
   "source": [
    "class PositionEmbedding(nn.Module):\n",
    "    def __init__(self,embedding_dim,max_len,device):\n",
    "        super(PositionEmbedding,self).__init__()\n",
    "        self.device = device\n",
    "        self.encoding=torch.zeros(max_len,embedding_dim,device=self.device)\n",
    "        self.encoding.requires_grad = False\n",
    "        pos = torch.arange(0,max_len,device=device).float().unsqueeze(dim=1)\n",
    "        _2i = torch.atrange(0,embedding_dim,step=2,device=device).float()\n",
    "        self.encoding[:,0::2] = torch.sin(pos/10000**(_/embedding_dim))\n",
    "        self.encoding[:,1::2] = torch.cos(pos/10000**(_/embedding_dim))\n",
    "    def forward(self,x):\n",
    "        batch_size,seq_len = x.size()\n",
    "        return self.encoding[:seq_len,:]\n",
    "    \n",
    "        "
   ],
   "id": "592b157335b1c17e",
   "outputs": [],
   "execution_count": 6
  },
  {
   "metadata": {},
   "cell_type": "code",
   "outputs": [],
   "execution_count": null,
   "source": [
    "class TransformerEmbedding(nn.Module):\n",
    "    def __init__(self,vocab_size,embedding_dim,max_len,drop_prob,device):\n",
    "        super(TransformerEmbedding,self).__init__()\n",
    "        self.token_embeddings = TokenEmbedding(vocab_size,embedding_dim)\n",
    "        self.position_embeddings = PositionEmbedding(embedding_dim,max_len,device)\n",
    "        self.drop_out = nn.Dropout(drop_prob)\n",
    "        def forward(self,x):\n",
    "            token_embeddings = self.token_embeddings(x)\n",
    "            position_embeddings = self.position_embeddings(x)\n",
    "            return self.drop_out(token_embeddings + position_embeddings)\n",
    "        \n",
    "            \n",
    "        "
   ],
   "id": "48f1d17347b26236"
  }
 ],
 "metadata": {
  "kernelspec": {
   "display_name": "Python 3",
   "language": "python",
   "name": "python3"
  },
  "language_info": {
   "codemirror_mode": {
    "name": "ipython",
    "version": 2
   },
   "file_extension": ".py",
   "mimetype": "text/x-python",
   "name": "python",
   "nbconvert_exporter": "python",
   "pygments_lexer": "ipython2",
   "version": "2.7.6"
  }
 },
 "nbformat": 4,
 "nbformat_minor": 5
}
